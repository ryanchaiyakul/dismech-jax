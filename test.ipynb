{
 "cells": [
  {
   "cell_type": "code",
   "execution_count": 1,
   "id": "6d4718ef",
   "metadata": {},
   "outputs": [],
   "source": [
    "import jax\n",
    "import jax.numpy as jnp\n",
    "import matplotlib.pyplot as plt\n",
    "import dismech_jax"
   ]
  },
  {
   "cell_type": "code",
   "execution_count": null,
   "id": "80c99ecc",
   "metadata": {},
   "outputs": [],
   "source": [
    "x0 = jnp.array([0.0, 0.0, 0.0, 0.01, 0.0, 0.0, 0.02, 0.0, 0.0])\n",
    "ini_state = dismech_jax.State(x0)\n",
    "l_0 = jnp.linalg.norm(x0[0:3] - x0[3:6])\n",
    "l_1 = jnp.linalg.norm(x0[3:6] - x0[6:9])\n",
    "triplet = dismech_jax.DERTriplet.init(\n",
    "    jnp.array([0,1,2]),\n",
    "    jnp.array([l_0, l_1]),\n",
    "    jnp.array([0.0]),\n",
    "    jnp.array([40]),\n",
    "    jnp.array([0, 0]),\n",
    "    jnp.array([0]),\n",
    "    ini_state\n",
    ")\n",
    "\n",
    "x = jnp.array([0.0, 0.0, 0.0, 0.01, 0.0, 0.0, 0.04, 0.0, 0.0])\n",
    "state = dismech_jax.State(x)"
   ]
  },
  {
   "cell_type": "code",
   "execution_count": 3,
   "id": "996afccb",
   "metadata": {},
   "outputs": [
    {
     "ename": "ValueError",
     "evalue": "vmap got inconsistent sizes for array axes to be mapped:\n  * most axes (2 of them) had size 1, e.g. axis 0 of argument t.nat_strain of type float32[1];\n  * one axis had size 3: axis 0 of argument t.node_dofs of type int32[3,3];\n  * one axis had size 2: axis 0 of argument t.l_k of type float32[2]",
     "output_type": "error",
     "traceback": [
      "\u001b[31m---------------------------------------------------------------------------\u001b[39m",
      "\u001b[31mValueError\u001b[39m                                Traceback (most recent call last)",
      "\u001b[36mCell\u001b[39m\u001b[36m \u001b[39m\u001b[32mIn[3]\u001b[39m\u001b[32m, line 5\u001b[39m\n\u001b[32m      2\u001b[39m     a = jax.vmap(\u001b[38;5;28;01mlambda\u001b[39;00m t: t.get_grad_hess_energy(state))(triplets)\n\u001b[32m      3\u001b[39m     \u001b[38;5;28mprint\u001b[39m(a)\n\u001b[32m----> \u001b[39m\u001b[32m5\u001b[39m \u001b[43mget_grad_hess_triplets\u001b[49m\u001b[43m(\u001b[49m\u001b[43mtriplet\u001b[49m\u001b[43m,\u001b[49m\u001b[43m \u001b[49m\u001b[43mstate\u001b[49m\u001b[43m)\u001b[49m\n",
      "\u001b[36mCell\u001b[39m\u001b[36m \u001b[39m\u001b[32mIn[3]\u001b[39m\u001b[32m, line 2\u001b[39m, in \u001b[36mget_grad_hess_triplets\u001b[39m\u001b[34m(triplets, state)\u001b[39m\n\u001b[32m      1\u001b[39m \u001b[38;5;28;01mdef\u001b[39;00m\u001b[38;5;250m \u001b[39m\u001b[34mget_grad_hess_triplets\u001b[39m(triplets: dismech_jax.BaseTriplet, state: dismech_jax.State) -> \u001b[38;5;28mtuple\u001b[39m[jax.Array, jax.Array]:\n\u001b[32m----> \u001b[39m\u001b[32m2\u001b[39m     a = \u001b[43mjax\u001b[49m\u001b[43m.\u001b[49m\u001b[43mvmap\u001b[49m\u001b[43m(\u001b[49m\u001b[38;5;28;43;01mlambda\u001b[39;49;00m\u001b[43m \u001b[49m\u001b[43mt\u001b[49m\u001b[43m:\u001b[49m\u001b[43m \u001b[49m\u001b[43mt\u001b[49m\u001b[43m.\u001b[49m\u001b[43mget_grad_hess_energy\u001b[49m\u001b[43m(\u001b[49m\u001b[43mstate\u001b[49m\u001b[43m)\u001b[49m\u001b[43m)\u001b[49m\u001b[43m(\u001b[49m\u001b[43mtriplets\u001b[49m\u001b[43m)\u001b[49m\n\u001b[32m      3\u001b[39m     \u001b[38;5;28mprint\u001b[39m(a)\n",
      "    \u001b[31m[... skipping hidden 2 frame]\u001b[39m\n",
      "\u001b[36mFile \u001b[39m\u001b[32m~/dev/dismech-jax/.venv/lib/python3.13/site-packages/jax/_src/api.py:1235\u001b[39m, in \u001b[36m_mapped_axis_size\u001b[39m\u001b[34m(fn, tree, vals, dims, name)\u001b[39m\n\u001b[32m   1233\u001b[39m   \u001b[38;5;28;01melse\u001b[39;00m:\n\u001b[32m   1234\u001b[39m     msg.append(\u001b[33mf\u001b[39m\u001b[33m\"\u001b[39m\u001b[33m  * some axes (\u001b[39m\u001b[38;5;132;01m{\u001b[39;00mct\u001b[38;5;132;01m}\u001b[39;00m\u001b[33m of them) had size \u001b[39m\u001b[38;5;132;01m{\u001b[39;00msz\u001b[38;5;132;01m}\u001b[39;00m\u001b[33m, e.g. axis \u001b[39m\u001b[38;5;132;01m{\u001b[39;00max\u001b[38;5;132;01m}\u001b[39;00m\u001b[33m of \u001b[39m\u001b[38;5;132;01m{\u001b[39;00mex\u001b[38;5;132;01m}\u001b[39;00m\u001b[33m;\u001b[39m\u001b[38;5;130;01m\\n\u001b[39;00m\u001b[33m\"\u001b[39m)\n\u001b[32m-> \u001b[39m\u001b[32m1235\u001b[39m \u001b[38;5;28;01mraise\u001b[39;00m \u001b[38;5;167;01mValueError\u001b[39;00m(\u001b[33m'\u001b[39m\u001b[33m'\u001b[39m.join(msg)[:-\u001b[32m2\u001b[39m])\n",
      "\u001b[31mValueError\u001b[39m: vmap got inconsistent sizes for array axes to be mapped:\n  * most axes (2 of them) had size 1, e.g. axis 0 of argument t.nat_strain of type float32[1];\n  * one axis had size 3: axis 0 of argument t.node_dofs of type int32[3,3];\n  * one axis had size 2: axis 0 of argument t.l_k of type float32[2]"
     ]
    }
   ],
   "source": [
    "def get_grad_hess_triplets(triplets: dismech_jax.BaseTriplet, state: dismech_jax.State) -> tuple[jax.Array, jax.Array]:\n",
    "    a = jax.vmap(lambda t: t.get_grad_hess_energy(state))(triplets)\n",
    "    print(a)\n",
    "\n",
    "get_grad_hess_triplets(triplet, state)"
   ]
  }
 ],
 "metadata": {
  "kernelspec": {
   "display_name": "dismech-jax",
   "language": "python",
   "name": "python3"
  },
  "language_info": {
   "codemirror_mode": {
    "name": "ipython",
    "version": 3
   },
   "file_extension": ".py",
   "mimetype": "text/x-python",
   "name": "python",
   "nbconvert_exporter": "python",
   "pygments_lexer": "ipython3",
   "version": "3.13.7"
  }
 },
 "nbformat": 4,
 "nbformat_minor": 5
}
