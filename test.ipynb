{
 "cells": [
  {
   "cell_type": "code",
   "execution_count": 1,
   "id": "2ea51e2f",
   "metadata": {},
   "outputs": [],
   "source": [
    "import dismech_jax\n",
    "import jax\n",
    "import jax.numpy as jnp"
   ]
  },
  {
   "cell_type": "code",
   "execution_count": null,
   "id": "92435ea6",
   "metadata": {},
   "outputs": [],
   "source": [
    "from dataclasses import dataclass\n",
    "from jax.tree_util import register_dataclass\n",
    "\n",
    "@register_dataclass\n",
    "@dataclass\n",
    "class Triplet:\n",
    "    node_dofs: jax.Array # [n0, n1, n2]"
   ]
  },
  {
   "cell_type": "code",
   "execution_count": 5,
   "id": "62461e85",
   "metadata": {},
   "outputs": [],
   "source": [
    "n0 = jnp.array([0.0, 0.0, 0.0])\n",
    "n1 = jnp.array([0.0, 0.0, 1.2])\n",
    "n2 = jnp.array([0.0, 0.0, 2.0])\n",
    "l_k = 0.5\n",
    "\n",
    "eps, dF, dJ = dismech_jax.get_grad_hess_stretch_strain(n0, n1, n2, l_k, l_k)"
   ]
  }
 ],
 "metadata": {
  "kernelspec": {
   "display_name": "dismech-jax",
   "language": "python",
   "name": "python3"
  },
  "language_info": {
   "codemirror_mode": {
    "name": "ipython",
    "version": 3
   },
   "file_extension": ".py",
   "mimetype": "text/x-python",
   "name": "python",
   "nbconvert_exporter": "python",
   "pygments_lexer": "ipython3",
   "version": "3.13.7"
  }
 },
 "nbformat": 4,
 "nbformat_minor": 5
}
